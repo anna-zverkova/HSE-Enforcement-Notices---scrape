{
  "nbformat": 4,
  "nbformat_minor": 0,
  "metadata": {
    "colab": {
      "provenance": []
    },
    "kernelspec": {
      "name": "python3",
      "display_name": "Python 3"
    },
    "language_info": {
      "name": "python"
    }
  },
  "cells": [
    {
      "cell_type": "code",
      "source": [
        "import requests\n",
        "from bs4 import BeautifulSoup\n",
        "import pandas as pd\n",
        "import time"
      ],
      "metadata": {
        "id": "UEtHIVApocHl"
      },
      "execution_count": null,
      "outputs": []
    },
    {
      "cell_type": "code",
      "source": [
        "# specify the url\n",
        "url = 'https://resources.hse.gov.uk/notices/notices/notice_list.asp?PN=1&ST=N&rdoNType=&NT=&SN=F&EO=LIKE&SF=RN&SV=&SO=DNIS'\n",
        "\n",
        "# query the website and return the html to the variable ‘page’\n",
        "page = requests.get(url)\n",
        "\n",
        "# parse the html using beautiful soup and store in variable `soup`\n",
        "soup = BeautifulSoup(page.content, 'html.parser')\n"
      ],
      "metadata": {
        "id": "uQ3qLAcYpTbe"
      },
      "execution_count": null,
      "outputs": []
    },
    {
      "cell_type": "code",
      "source": [
        "\n",
        "# find the table \n",
        "table = soup.find('table')\n",
        "\n",
        "# get all the rows of the table\n",
        "table_rows = table.find_all('tr')"
      ],
      "metadata": {
        "id": "XkYFgj3Nq2i0"
      },
      "execution_count": null,
      "outputs": []
    },
    {
      "cell_type": "code",
      "source": [
        "# print(table)"
      ],
      "metadata": {
        "id": "Jz6pmW_Cq690"
      },
      "execution_count": null,
      "outputs": []
    },
    {
      "cell_type": "code",
      "source": [
        "# loop through each row and get the text\n",
        "for tr in table_rows:\n",
        "    td = tr.find_all('td')\n",
        "    row = [i.text for i in td]\n",
        "    print(row)"
      ],
      "metadata": {
        "id": "elq6hTmCr4ny",
        "colab": {
          "base_uri": "https://localhost:8080/"
        },
        "outputId": "103cb04c-e493-4e86-99df-a44b7995c282"
      },
      "execution_count": null,
      "outputs": [
        {
          "output_type": "stream",
          "name": "stdout",
          "text": [
            "[]\n",
            "[' 312954504', 'Mick Rawcliffe', 'Prohibition Notice Immediate', '05/11/2022', 'Bradford', 'DEVELOPMENT BUILDING PROJECTS']\n",
            "[' 312939766', 'Richard Bell', 'Prohibition Notice Immediate', '04/11/2022', 'Darlington', 'DEVELOPMENT BUILDING PROJECTS']\n",
            "[' 312940053', 'Palick Limited', 'Improvement Notice', '04/11/2022', 'Newcastle-under-Lyme', 'MF OF WOODEN CONTAINERS']\n",
            "[' 312940097', 'Fujifilm Imaging Colorants Limited', 'Improvement Notice', '04/11/2022', 'Falkirk UA', 'MF CHEMICAL PRODUCTS NEC']\n",
            "[' 312940715', 'Blaze Signs Limited', 'Improvement Notice', '04/11/2022', 'Birmingham', 'OTHER MANUFACTURING NEC']\n",
            "[' 312940739', 'Blaze Signs Limited', 'Improvement Notice', '04/11/2022', 'Birmingham', 'OTHER MANUFACTURING NEC']\n",
            "[' 312940873', 'D T Gittins', 'Prohibition Notice Immediate', '04/11/2022', 'Shropshire UA', 'GROW CEREALS/LEGUMES/OIL SEEDS']\n",
            "[' 312941236', 'Tayquest Limited', 'Improvement Notice', '04/11/2022', 'Glasgow UA', 'GLAZING']\n",
            "[' 312941649', 'Crafty Pig Designs Limited', 'Improvement Notice', '04/11/2022', 'Fylde', 'MF CERAMIC HHOLD/ORNAMENTAL']\n",
            "[' 312941662', 'Crafty Pig Designs Limited', 'Improvement Notice', '04/11/2022', 'Fylde', 'MF CERAMIC HHOLD/ORNAMENTAL']\n",
            "[]\n"
          ]
        }
      ]
    },
    {
      "cell_type": "code",
      "source": [
        "#Let's get the table from first 20 pages  \n",
        "\n",
        "# Create empty list to store data\n",
        "data = []\n",
        "\n",
        "# Loop through pages\n",
        "for page_number in range(1, 20):\n",
        "    # Get HTML from page\n",
        "    url = 'https://resources.hse.gov.uk/notices/notices/notice_list.asp?PN=' +str(page_number) +'&ST=N&rdoNType=&NT=&SN=F&EO=LIKE&SF=RN&SV=&SO=DNIS'\n",
        "    print(url)\n",
        "    response = requests.get(url)\n",
        "    #html = response.content\n",
        "    \n",
        "    # Parse HTML\n",
        "    soup = BeautifulSoup(response.content, 'html.parser')\n",
        "    \n",
        "    # Get table\n",
        "    table = soup.find('table')\n",
        "    \n",
        "    # Get table rows\n",
        "    rows = table.find_all('tr')\n",
        "    \n",
        "    # Loop through rows\n",
        "    for row in rows:\n",
        "        # Get row data\n",
        "        cols = row.find_all('td')\n",
        "        cols = [ele.text.strip() for ele in cols]\n",
        "        data.append([ele for ele in cols if ele])\n",
        "\n",
        "    # Pause for 4 seconds\n",
        "    time.sleep(10)\n",
        "\n",
        "    # print(data)\n",
        "\n",
        "\n",
        "# Create data frame\n",
        "df = pd.DataFrame(data)\n",
        "\n",
        "# Print data frame\n",
        "# print(df)"
      ],
      "metadata": {
        "colab": {
          "base_uri": "https://localhost:8080/",
          "height": 314
        },
        "id": "vgtyS6OEV5kx",
        "outputId": "28424b6b-2517-4a70-8643-4aa21b23d7a0"
      },
      "execution_count": 26,
      "outputs": [
        {
          "output_type": "stream",
          "name": "stdout",
          "text": [
            "https://resources.hse.gov.uk/notices/notices/notice_list.asp?PN=1&ST=N&rdoNType=&NT=&SN=F&EO=LIKE&SF=RN&SV=&SO=DNIS\n"
          ]
        },
        {
          "output_type": "error",
          "ename": "KeyboardInterrupt",
          "evalue": "ignored",
          "traceback": [
            "\u001b[0;31m---------------------------------------------------------------------------\u001b[0m",
            "\u001b[0;31mKeyboardInterrupt\u001b[0m                         Traceback (most recent call last)",
            "\u001b[0;32m<ipython-input-26-314d1afaa0eb>\u001b[0m in \u001b[0;36m<module>\u001b[0;34m\u001b[0m\n\u001b[1;32m     29\u001b[0m \u001b[0;34m\u001b[0m\u001b[0m\n\u001b[1;32m     30\u001b[0m     \u001b[0;31m# Pause for 4 seconds\u001b[0m\u001b[0;34m\u001b[0m\u001b[0;34m\u001b[0m\u001b[0;34m\u001b[0m\u001b[0m\n\u001b[0;32m---> 31\u001b[0;31m     \u001b[0mtime\u001b[0m\u001b[0;34m.\u001b[0m\u001b[0msleep\u001b[0m\u001b[0;34m(\u001b[0m\u001b[0;36m20\u001b[0m\u001b[0;34m)\u001b[0m\u001b[0;34m\u001b[0m\u001b[0;34m\u001b[0m\u001b[0m\n\u001b[0m\u001b[1;32m     32\u001b[0m \u001b[0;34m\u001b[0m\u001b[0m\n\u001b[1;32m     33\u001b[0m     \u001b[0;31m# print(data)\u001b[0m\u001b[0;34m\u001b[0m\u001b[0;34m\u001b[0m\u001b[0;34m\u001b[0m\u001b[0m\n",
            "\u001b[0;31mKeyboardInterrupt\u001b[0m: "
          ]
        }
      ]
    },
    {
      "cell_type": "code",
      "source": [
        "# Export the dataframe with first 20 pages to csv\n",
        "df.to_csv('HSE_enforcement_notices_public.csv', index=False)"
      ],
      "metadata": {
        "id": "UjmGF8bzcW5h"
      },
      "execution_count": 25,
      "outputs": []
    },
    {
      "cell_type": "code",
      "source": [
        "#Let's get the table from next 80 pages  \n",
        "\n",
        "# Create empty list to store data\n",
        "data = []\n",
        "\n",
        "# Loop through pages\n",
        "for page_number in range(20, 100):\n",
        "    # Get HTML from page\n",
        "    url = 'https://resources.hse.gov.uk/notices/notices/notice_list.asp?PN=' +str(page_number) +'&ST=N&rdoNType=&NT=&SN=F&EO=LIKE&SF=RN&SV=&SO=DNIS'\n",
        "    print(url)\n",
        "    response = requests.get(url)\n",
        "    #html = response.content\n",
        "    \n",
        "    # Parse HTML\n",
        "    soup = BeautifulSoup(response.content, 'html.parser')\n",
        "    \n",
        "    # Get table\n",
        "    table = soup.find('table')\n",
        "    \n",
        "    # Get table rows\n",
        "    rows = table.find_all('tr')\n",
        "    \n",
        "    # Loop through rows\n",
        "    for row in rows:\n",
        "        # Get row data\n",
        "        cols = row.find_all('td')\n",
        "        cols = [ele.text.strip() for ele in cols]\n",
        "        data.append([ele for ele in cols if ele])\n",
        "\n",
        "    # Pause for 4 seconds\n",
        "    time.sleep(15)\n",
        "\n",
        "    # print(data)\n",
        "\n",
        "\n",
        "# Create data frame\n",
        "df = pd.DataFrame(data)\n",
        "\n",
        "# Print data frame\n",
        "# print(df)"
      ],
      "metadata": {
        "colab": {
          "base_uri": "https://localhost:8080/",
          "height": 957
        },
        "id": "OdjmUZsrkI-c",
        "outputId": "ba69e24c-5f10-44c5-a151-d5055e1cf7a6"
      },
      "execution_count": 28,
      "outputs": [
        {
          "output_type": "stream",
          "name": "stdout",
          "text": [
            "https://resources.hse.gov.uk/notices/notices/notice_list.asp?PN=20&ST=N&rdoNType=&NT=&SN=F&EO=LIKE&SF=RN&SV=&SO=DNIS\n",
            "https://resources.hse.gov.uk/notices/notices/notice_list.asp?PN=21&ST=N&rdoNType=&NT=&SN=F&EO=LIKE&SF=RN&SV=&SO=DNIS\n",
            "https://resources.hse.gov.uk/notices/notices/notice_list.asp?PN=22&ST=N&rdoNType=&NT=&SN=F&EO=LIKE&SF=RN&SV=&SO=DNIS\n",
            "https://resources.hse.gov.uk/notices/notices/notice_list.asp?PN=23&ST=N&rdoNType=&NT=&SN=F&EO=LIKE&SF=RN&SV=&SO=DNIS\n",
            "https://resources.hse.gov.uk/notices/notices/notice_list.asp?PN=24&ST=N&rdoNType=&NT=&SN=F&EO=LIKE&SF=RN&SV=&SO=DNIS\n",
            "https://resources.hse.gov.uk/notices/notices/notice_list.asp?PN=25&ST=N&rdoNType=&NT=&SN=F&EO=LIKE&SF=RN&SV=&SO=DNIS\n",
            "https://resources.hse.gov.uk/notices/notices/notice_list.asp?PN=26&ST=N&rdoNType=&NT=&SN=F&EO=LIKE&SF=RN&SV=&SO=DNIS\n",
            "https://resources.hse.gov.uk/notices/notices/notice_list.asp?PN=27&ST=N&rdoNType=&NT=&SN=F&EO=LIKE&SF=RN&SV=&SO=DNIS\n",
            "https://resources.hse.gov.uk/notices/notices/notice_list.asp?PN=28&ST=N&rdoNType=&NT=&SN=F&EO=LIKE&SF=RN&SV=&SO=DNIS\n",
            "https://resources.hse.gov.uk/notices/notices/notice_list.asp?PN=29&ST=N&rdoNType=&NT=&SN=F&EO=LIKE&SF=RN&SV=&SO=DNIS\n",
            "https://resources.hse.gov.uk/notices/notices/notice_list.asp?PN=30&ST=N&rdoNType=&NT=&SN=F&EO=LIKE&SF=RN&SV=&SO=DNIS\n",
            "https://resources.hse.gov.uk/notices/notices/notice_list.asp?PN=31&ST=N&rdoNType=&NT=&SN=F&EO=LIKE&SF=RN&SV=&SO=DNIS\n",
            "https://resources.hse.gov.uk/notices/notices/notice_list.asp?PN=32&ST=N&rdoNType=&NT=&SN=F&EO=LIKE&SF=RN&SV=&SO=DNIS\n",
            "https://resources.hse.gov.uk/notices/notices/notice_list.asp?PN=33&ST=N&rdoNType=&NT=&SN=F&EO=LIKE&SF=RN&SV=&SO=DNIS\n",
            "https://resources.hse.gov.uk/notices/notices/notice_list.asp?PN=34&ST=N&rdoNType=&NT=&SN=F&EO=LIKE&SF=RN&SV=&SO=DNIS\n",
            "https://resources.hse.gov.uk/notices/notices/notice_list.asp?PN=35&ST=N&rdoNType=&NT=&SN=F&EO=LIKE&SF=RN&SV=&SO=DNIS\n",
            "https://resources.hse.gov.uk/notices/notices/notice_list.asp?PN=36&ST=N&rdoNType=&NT=&SN=F&EO=LIKE&SF=RN&SV=&SO=DNIS\n",
            "https://resources.hse.gov.uk/notices/notices/notice_list.asp?PN=37&ST=N&rdoNType=&NT=&SN=F&EO=LIKE&SF=RN&SV=&SO=DNIS\n",
            "https://resources.hse.gov.uk/notices/notices/notice_list.asp?PN=38&ST=N&rdoNType=&NT=&SN=F&EO=LIKE&SF=RN&SV=&SO=DNIS\n",
            "https://resources.hse.gov.uk/notices/notices/notice_list.asp?PN=39&ST=N&rdoNType=&NT=&SN=F&EO=LIKE&SF=RN&SV=&SO=DNIS\n",
            "https://resources.hse.gov.uk/notices/notices/notice_list.asp?PN=40&ST=N&rdoNType=&NT=&SN=F&EO=LIKE&SF=RN&SV=&SO=DNIS\n",
            "https://resources.hse.gov.uk/notices/notices/notice_list.asp?PN=41&ST=N&rdoNType=&NT=&SN=F&EO=LIKE&SF=RN&SV=&SO=DNIS\n",
            "https://resources.hse.gov.uk/notices/notices/notice_list.asp?PN=42&ST=N&rdoNType=&NT=&SN=F&EO=LIKE&SF=RN&SV=&SO=DNIS\n",
            "https://resources.hse.gov.uk/notices/notices/notice_list.asp?PN=43&ST=N&rdoNType=&NT=&SN=F&EO=LIKE&SF=RN&SV=&SO=DNIS\n",
            "https://resources.hse.gov.uk/notices/notices/notice_list.asp?PN=44&ST=N&rdoNType=&NT=&SN=F&EO=LIKE&SF=RN&SV=&SO=DNIS\n",
            "https://resources.hse.gov.uk/notices/notices/notice_list.asp?PN=45&ST=N&rdoNType=&NT=&SN=F&EO=LIKE&SF=RN&SV=&SO=DNIS\n",
            "https://resources.hse.gov.uk/notices/notices/notice_list.asp?PN=46&ST=N&rdoNType=&NT=&SN=F&EO=LIKE&SF=RN&SV=&SO=DNIS\n",
            "https://resources.hse.gov.uk/notices/notices/notice_list.asp?PN=47&ST=N&rdoNType=&NT=&SN=F&EO=LIKE&SF=RN&SV=&SO=DNIS\n",
            "https://resources.hse.gov.uk/notices/notices/notice_list.asp?PN=48&ST=N&rdoNType=&NT=&SN=F&EO=LIKE&SF=RN&SV=&SO=DNIS\n",
            "https://resources.hse.gov.uk/notices/notices/notice_list.asp?PN=49&ST=N&rdoNType=&NT=&SN=F&EO=LIKE&SF=RN&SV=&SO=DNIS\n",
            "https://resources.hse.gov.uk/notices/notices/notice_list.asp?PN=50&ST=N&rdoNType=&NT=&SN=F&EO=LIKE&SF=RN&SV=&SO=DNIS\n",
            "https://resources.hse.gov.uk/notices/notices/notice_list.asp?PN=51&ST=N&rdoNType=&NT=&SN=F&EO=LIKE&SF=RN&SV=&SO=DNIS\n",
            "https://resources.hse.gov.uk/notices/notices/notice_list.asp?PN=52&ST=N&rdoNType=&NT=&SN=F&EO=LIKE&SF=RN&SV=&SO=DNIS\n",
            "https://resources.hse.gov.uk/notices/notices/notice_list.asp?PN=53&ST=N&rdoNType=&NT=&SN=F&EO=LIKE&SF=RN&SV=&SO=DNIS\n",
            "https://resources.hse.gov.uk/notices/notices/notice_list.asp?PN=54&ST=N&rdoNType=&NT=&SN=F&EO=LIKE&SF=RN&SV=&SO=DNIS\n",
            "https://resources.hse.gov.uk/notices/notices/notice_list.asp?PN=55&ST=N&rdoNType=&NT=&SN=F&EO=LIKE&SF=RN&SV=&SO=DNIS\n",
            "https://resources.hse.gov.uk/notices/notices/notice_list.asp?PN=56&ST=N&rdoNType=&NT=&SN=F&EO=LIKE&SF=RN&SV=&SO=DNIS\n"
          ]
        },
        {
          "output_type": "error",
          "ename": "AttributeError",
          "evalue": "ignored",
          "traceback": [
            "\u001b[0;31m---------------------------------------------------------------------------\u001b[0m",
            "\u001b[0;31mAttributeError\u001b[0m                            Traceback (most recent call last)",
            "\u001b[0;32m<ipython-input-28-9aee2418a49f>\u001b[0m in \u001b[0;36m<module>\u001b[0;34m\u001b[0m\n\u001b[1;32m     19\u001b[0m \u001b[0;34m\u001b[0m\u001b[0m\n\u001b[1;32m     20\u001b[0m     \u001b[0;31m# Get table rows\u001b[0m\u001b[0;34m\u001b[0m\u001b[0;34m\u001b[0m\u001b[0;34m\u001b[0m\u001b[0m\n\u001b[0;32m---> 21\u001b[0;31m     \u001b[0mrows\u001b[0m \u001b[0;34m=\u001b[0m \u001b[0mtable\u001b[0m\u001b[0;34m.\u001b[0m\u001b[0mfind_all\u001b[0m\u001b[0;34m(\u001b[0m\u001b[0;34m'tr'\u001b[0m\u001b[0;34m)\u001b[0m\u001b[0;34m\u001b[0m\u001b[0;34m\u001b[0m\u001b[0m\n\u001b[0m\u001b[1;32m     22\u001b[0m \u001b[0;34m\u001b[0m\u001b[0m\n\u001b[1;32m     23\u001b[0m     \u001b[0;31m# Loop through rows\u001b[0m\u001b[0;34m\u001b[0m\u001b[0;34m\u001b[0m\u001b[0;34m\u001b[0m\u001b[0m\n",
            "\u001b[0;31mAttributeError\u001b[0m: 'NoneType' object has no attribute 'find_all'"
          ]
        }
      ]
    },
    {
      "cell_type": "code",
      "source": [
        "# print(df)\n",
        "# We scraped 227 rows of data before the scrape died\n",
        "# We scraped upto page 55\n",
        "\n",
        "# Export the dataframe with pages 21 to 55 to csv\n",
        "df.to_csv('HSE_enforcement_notices_public_21_to_55.csv', index=False)"
      ],
      "metadata": {
        "id": "esFtDrIhqFz2"
      },
      "execution_count": 30,
      "outputs": []
    },
    {
      "cell_type": "code",
      "source": [
        "#Let's get the table from next pages\n",
        "\n",
        "# Create empty list to store data\n",
        "data = []\n",
        "\n",
        "# Loop through pages\n",
        "for page_number in range(55, 100):\n",
        "    # Get HTML from page\n",
        "    url = 'https://resources.hse.gov.uk/notices/notices/notice_list.asp?PN=' +str(page_number) +'&ST=N&rdoNType=&NT=&SN=F&EO=LIKE&SF=RN&SV=&SO=DNIS'\n",
        "    print(url)\n",
        "    response = requests.get(url)\n",
        "    #html = response.content\n",
        "    \n",
        "    # Parse HTML\n",
        "    soup = BeautifulSoup(response.content, 'html.parser')\n",
        "    \n",
        "    # Get table\n",
        "    table = soup.find('table')\n",
        "    \n",
        "    # Get table rows\n",
        "    rows = table.find_all('tr')\n",
        "    \n",
        "    # Loop through rows\n",
        "    for row in rows:\n",
        "        # Get row data\n",
        "        cols = row.find_all('td')\n",
        "        cols = [ele.text.strip() for ele in cols]\n",
        "        data.append([ele for ele in cols if ele])\n",
        "\n",
        "    # Pause for 4 seconds\n",
        "    time.sleep(30)\n",
        "\n",
        "    # print(data)\n",
        "\n",
        "\n",
        "# Create data frame\n",
        "df = pd.DataFrame(data)\n",
        "\n",
        "# Print data frame\n",
        "# print(df)\n",
        "\n",
        "# Export the dataframe with pages 55 to 100 to csv\n",
        "df.to_csv('HSE_enforcement_notices_public_56_to_100.csv', index=False)"
      ],
      "metadata": {
        "colab": {
          "base_uri": "https://localhost:8080/"
        },
        "id": "MuzwtT9wqz96",
        "outputId": "7973c10f-d41f-4cc3-d429-81d81bc30332"
      },
      "execution_count": 31,
      "outputs": [
        {
          "output_type": "stream",
          "name": "stdout",
          "text": [
            "https://resources.hse.gov.uk/notices/notices/notice_list.asp?PN=55&ST=N&rdoNType=&NT=&SN=F&EO=LIKE&SF=RN&SV=&SO=DNIS\n",
            "https://resources.hse.gov.uk/notices/notices/notice_list.asp?PN=56&ST=N&rdoNType=&NT=&SN=F&EO=LIKE&SF=RN&SV=&SO=DNIS\n",
            "https://resources.hse.gov.uk/notices/notices/notice_list.asp?PN=57&ST=N&rdoNType=&NT=&SN=F&EO=LIKE&SF=RN&SV=&SO=DNIS\n",
            "https://resources.hse.gov.uk/notices/notices/notice_list.asp?PN=58&ST=N&rdoNType=&NT=&SN=F&EO=LIKE&SF=RN&SV=&SO=DNIS\n",
            "https://resources.hse.gov.uk/notices/notices/notice_list.asp?PN=59&ST=N&rdoNType=&NT=&SN=F&EO=LIKE&SF=RN&SV=&SO=DNIS\n",
            "https://resources.hse.gov.uk/notices/notices/notice_list.asp?PN=60&ST=N&rdoNType=&NT=&SN=F&EO=LIKE&SF=RN&SV=&SO=DNIS\n",
            "https://resources.hse.gov.uk/notices/notices/notice_list.asp?PN=61&ST=N&rdoNType=&NT=&SN=F&EO=LIKE&SF=RN&SV=&SO=DNIS\n",
            "https://resources.hse.gov.uk/notices/notices/notice_list.asp?PN=62&ST=N&rdoNType=&NT=&SN=F&EO=LIKE&SF=RN&SV=&SO=DNIS\n",
            "https://resources.hse.gov.uk/notices/notices/notice_list.asp?PN=63&ST=N&rdoNType=&NT=&SN=F&EO=LIKE&SF=RN&SV=&SO=DNIS\n",
            "https://resources.hse.gov.uk/notices/notices/notice_list.asp?PN=64&ST=N&rdoNType=&NT=&SN=F&EO=LIKE&SF=RN&SV=&SO=DNIS\n",
            "https://resources.hse.gov.uk/notices/notices/notice_list.asp?PN=65&ST=N&rdoNType=&NT=&SN=F&EO=LIKE&SF=RN&SV=&SO=DNIS\n",
            "https://resources.hse.gov.uk/notices/notices/notice_list.asp?PN=66&ST=N&rdoNType=&NT=&SN=F&EO=LIKE&SF=RN&SV=&SO=DNIS\n",
            "https://resources.hse.gov.uk/notices/notices/notice_list.asp?PN=67&ST=N&rdoNType=&NT=&SN=F&EO=LIKE&SF=RN&SV=&SO=DNIS\n",
            "https://resources.hse.gov.uk/notices/notices/notice_list.asp?PN=68&ST=N&rdoNType=&NT=&SN=F&EO=LIKE&SF=RN&SV=&SO=DNIS\n",
            "https://resources.hse.gov.uk/notices/notices/notice_list.asp?PN=69&ST=N&rdoNType=&NT=&SN=F&EO=LIKE&SF=RN&SV=&SO=DNIS\n",
            "https://resources.hse.gov.uk/notices/notices/notice_list.asp?PN=70&ST=N&rdoNType=&NT=&SN=F&EO=LIKE&SF=RN&SV=&SO=DNIS\n",
            "https://resources.hse.gov.uk/notices/notices/notice_list.asp?PN=71&ST=N&rdoNType=&NT=&SN=F&EO=LIKE&SF=RN&SV=&SO=DNIS\n",
            "https://resources.hse.gov.uk/notices/notices/notice_list.asp?PN=72&ST=N&rdoNType=&NT=&SN=F&EO=LIKE&SF=RN&SV=&SO=DNIS\n",
            "https://resources.hse.gov.uk/notices/notices/notice_list.asp?PN=73&ST=N&rdoNType=&NT=&SN=F&EO=LIKE&SF=RN&SV=&SO=DNIS\n",
            "https://resources.hse.gov.uk/notices/notices/notice_list.asp?PN=74&ST=N&rdoNType=&NT=&SN=F&EO=LIKE&SF=RN&SV=&SO=DNIS\n",
            "https://resources.hse.gov.uk/notices/notices/notice_list.asp?PN=75&ST=N&rdoNType=&NT=&SN=F&EO=LIKE&SF=RN&SV=&SO=DNIS\n",
            "https://resources.hse.gov.uk/notices/notices/notice_list.asp?PN=76&ST=N&rdoNType=&NT=&SN=F&EO=LIKE&SF=RN&SV=&SO=DNIS\n",
            "https://resources.hse.gov.uk/notices/notices/notice_list.asp?PN=77&ST=N&rdoNType=&NT=&SN=F&EO=LIKE&SF=RN&SV=&SO=DNIS\n",
            "https://resources.hse.gov.uk/notices/notices/notice_list.asp?PN=78&ST=N&rdoNType=&NT=&SN=F&EO=LIKE&SF=RN&SV=&SO=DNIS\n",
            "https://resources.hse.gov.uk/notices/notices/notice_list.asp?PN=79&ST=N&rdoNType=&NT=&SN=F&EO=LIKE&SF=RN&SV=&SO=DNIS\n",
            "https://resources.hse.gov.uk/notices/notices/notice_list.asp?PN=80&ST=N&rdoNType=&NT=&SN=F&EO=LIKE&SF=RN&SV=&SO=DNIS\n",
            "https://resources.hse.gov.uk/notices/notices/notice_list.asp?PN=81&ST=N&rdoNType=&NT=&SN=F&EO=LIKE&SF=RN&SV=&SO=DNIS\n",
            "https://resources.hse.gov.uk/notices/notices/notice_list.asp?PN=82&ST=N&rdoNType=&NT=&SN=F&EO=LIKE&SF=RN&SV=&SO=DNIS\n",
            "https://resources.hse.gov.uk/notices/notices/notice_list.asp?PN=83&ST=N&rdoNType=&NT=&SN=F&EO=LIKE&SF=RN&SV=&SO=DNIS\n",
            "https://resources.hse.gov.uk/notices/notices/notice_list.asp?PN=84&ST=N&rdoNType=&NT=&SN=F&EO=LIKE&SF=RN&SV=&SO=DNIS\n",
            "https://resources.hse.gov.uk/notices/notices/notice_list.asp?PN=85&ST=N&rdoNType=&NT=&SN=F&EO=LIKE&SF=RN&SV=&SO=DNIS\n",
            "https://resources.hse.gov.uk/notices/notices/notice_list.asp?PN=86&ST=N&rdoNType=&NT=&SN=F&EO=LIKE&SF=RN&SV=&SO=DNIS\n",
            "https://resources.hse.gov.uk/notices/notices/notice_list.asp?PN=87&ST=N&rdoNType=&NT=&SN=F&EO=LIKE&SF=RN&SV=&SO=DNIS\n",
            "https://resources.hse.gov.uk/notices/notices/notice_list.asp?PN=88&ST=N&rdoNType=&NT=&SN=F&EO=LIKE&SF=RN&SV=&SO=DNIS\n",
            "https://resources.hse.gov.uk/notices/notices/notice_list.asp?PN=89&ST=N&rdoNType=&NT=&SN=F&EO=LIKE&SF=RN&SV=&SO=DNIS\n",
            "https://resources.hse.gov.uk/notices/notices/notice_list.asp?PN=90&ST=N&rdoNType=&NT=&SN=F&EO=LIKE&SF=RN&SV=&SO=DNIS\n",
            "https://resources.hse.gov.uk/notices/notices/notice_list.asp?PN=91&ST=N&rdoNType=&NT=&SN=F&EO=LIKE&SF=RN&SV=&SO=DNIS\n",
            "https://resources.hse.gov.uk/notices/notices/notice_list.asp?PN=92&ST=N&rdoNType=&NT=&SN=F&EO=LIKE&SF=RN&SV=&SO=DNIS\n",
            "https://resources.hse.gov.uk/notices/notices/notice_list.asp?PN=93&ST=N&rdoNType=&NT=&SN=F&EO=LIKE&SF=RN&SV=&SO=DNIS\n",
            "https://resources.hse.gov.uk/notices/notices/notice_list.asp?PN=94&ST=N&rdoNType=&NT=&SN=F&EO=LIKE&SF=RN&SV=&SO=DNIS\n",
            "https://resources.hse.gov.uk/notices/notices/notice_list.asp?PN=95&ST=N&rdoNType=&NT=&SN=F&EO=LIKE&SF=RN&SV=&SO=DNIS\n",
            "https://resources.hse.gov.uk/notices/notices/notice_list.asp?PN=96&ST=N&rdoNType=&NT=&SN=F&EO=LIKE&SF=RN&SV=&SO=DNIS\n",
            "https://resources.hse.gov.uk/notices/notices/notice_list.asp?PN=97&ST=N&rdoNType=&NT=&SN=F&EO=LIKE&SF=RN&SV=&SO=DNIS\n",
            "https://resources.hse.gov.uk/notices/notices/notice_list.asp?PN=98&ST=N&rdoNType=&NT=&SN=F&EO=LIKE&SF=RN&SV=&SO=DNIS\n",
            "https://resources.hse.gov.uk/notices/notices/notice_list.asp?PN=99&ST=N&rdoNType=&NT=&SN=F&EO=LIKE&SF=RN&SV=&SO=DNIS\n"
          ]
        }
      ]
    },
    {
      "cell_type": "code",
      "source": [
        "#Let's get the table from all pages  \n",
        "\n",
        "# Create empty list to store data\n",
        "data = []\n",
        "\n",
        "# Setting count to 0 for pausing after 20 pages\n",
        "count = 0\n",
        "\n",
        "# Loop through pages\n",
        "for page_number in range(1, 3322):\n",
        "    # Get HTML from page\n",
        "    url = 'https://resources.hse.gov.uk/notices/notices/notice_list.asp?PN=' +str(page_number) +'&ST=N&rdoNType=&NT=&SN=F&EO=LIKE&SF=RN&SV=&SO=DNIS'\n",
        "    print(url)\n",
        "    response = requests.get(url)\n",
        "    #html = response.content\n",
        "    \n",
        "    # Parse HTML\n",
        "    soup = BeautifulSoup(response.content, 'html.parser')\n",
        "    \n",
        "    # Get table\n",
        "    table = soup.find('table')\n",
        "    \n",
        "    # Get table rows\n",
        "    rows = table.find_all('tr')\n",
        "    \n",
        "    # Loop through rows\n",
        "    for row in rows:\n",
        "        # Get row data\n",
        "        cols = row.find_all('td')\n",
        "        cols = [ele.text.strip() for ele in cols]\n",
        "        data.append([ele for ele in cols if ele])\n",
        "\n",
        "    # Pause for 30 seconds after each page\n",
        "    time.sleep(30)\n",
        "\n",
        "    # Pause for additional 60 seconds after 20 pages\n",
        "    count +=1 \n",
        "    if count == 20:\n",
        "        count = 0\n",
        "        time.sleep(60)\n",
        "\n",
        "\n",
        "# Create data frame\n",
        "df = pd.DataFrame(data)\n",
        "\n",
        "\n",
        "# Export the dataframe with pages all pages to csv\n",
        "df.to_csv('HSE_enforcement_notices_public_all.csv', index=False)"
      ],
      "metadata": {
        "colab": {
          "base_uri": "https://localhost:8080/"
        },
        "id": "tyqlx8egu0SC",
        "outputId": "eb7a6d2e-c5ab-4038-81ec-5912a1e766ca"
      },
      "execution_count": null,
      "outputs": [
        {
          "output_type": "stream",
          "name": "stdout",
          "text": [
            "https://resources.hse.gov.uk/notices/notices/notice_list.asp?PN=1&ST=N&rdoNType=&NT=&SN=F&EO=LIKE&SF=RN&SV=&SO=DNIS\n",
            "https://resources.hse.gov.uk/notices/notices/notice_list.asp?PN=2&ST=N&rdoNType=&NT=&SN=F&EO=LIKE&SF=RN&SV=&SO=DNIS\n",
            "https://resources.hse.gov.uk/notices/notices/notice_list.asp?PN=3&ST=N&rdoNType=&NT=&SN=F&EO=LIKE&SF=RN&SV=&SO=DNIS\n",
            "https://resources.hse.gov.uk/notices/notices/notice_list.asp?PN=4&ST=N&rdoNType=&NT=&SN=F&EO=LIKE&SF=RN&SV=&SO=DNIS\n",
            "https://resources.hse.gov.uk/notices/notices/notice_list.asp?PN=5&ST=N&rdoNType=&NT=&SN=F&EO=LIKE&SF=RN&SV=&SO=DNIS\n",
            "https://resources.hse.gov.uk/notices/notices/notice_list.asp?PN=6&ST=N&rdoNType=&NT=&SN=F&EO=LIKE&SF=RN&SV=&SO=DNIS\n",
            "https://resources.hse.gov.uk/notices/notices/notice_list.asp?PN=7&ST=N&rdoNType=&NT=&SN=F&EO=LIKE&SF=RN&SV=&SO=DNIS\n",
            "https://resources.hse.gov.uk/notices/notices/notice_list.asp?PN=8&ST=N&rdoNType=&NT=&SN=F&EO=LIKE&SF=RN&SV=&SO=DNIS\n",
            "https://resources.hse.gov.uk/notices/notices/notice_list.asp?PN=9&ST=N&rdoNType=&NT=&SN=F&EO=LIKE&SF=RN&SV=&SO=DNIS\n"
          ]
        }
      ]
    },
    {
      "cell_type": "markdown",
      "source": [
        "# New Section"
      ],
      "metadata": {
        "id": "zTAprCiCdIP2"
      }
    }
  ]
}